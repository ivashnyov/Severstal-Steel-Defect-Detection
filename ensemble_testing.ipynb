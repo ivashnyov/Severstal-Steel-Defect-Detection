{
 "cells": [
  {
   "cell_type": "code",
   "execution_count": null,
   "metadata": {},
   "outputs": [],
   "source": [
    "%load_ext autoreload\n",
    "%autoreload\n",
    "from factory import *\n",
    "import torch\n",
    "#from model import Unet\n",
    "from catalyst.dl.callbacks import CriterionCallback, EarlyStoppingCallback\n",
    "from catalyst.dl.runner import SupervisedRunner\n",
    "from pytorch_toolbelt import losses as L\n",
    "import collections\n",
    "from pytorch_toolbelt.utils.catalyst import * \n",
    "from metrics import *\n",
    "import custom_tta as tta\n",
    "from pytorch_toolbelt.inference.tiles import *\n",
    "import matplotlib.pyplot as plt\n",
    "from viz_utils import *\n",
    "from tqdm import tqdm\n",
    "import segmentation_models_pytorch as smp\n",
    "from tqdm import tqdm_notebook\n",
    "import pretrainedmodels\n",
    "from pytorch_toolbelt.inference import tta\n",
    "from itertools import combinations\n",
    "from catalyst import utils\n",
    "import seaborn as sns\n",
    "%matplotlib inline"
   ]
  },
  {
   "cell_type": "code",
   "execution_count": null,
   "metadata": {},
   "outputs": [],
   "source": [
    "all_encoder_names = ['efficientnet-b3',\n",
    "            'efficientnet-b5',\n",
    "            'efficientnet-b7',\n",
    "            'resnext50_32x4d',\n",
    "            'se_resnext50_32x4d',\n",
    "            'se_resnet50',\n",
    "            'se_resnext101_32x4d', \n",
    "            'resnext50_32x4d',\n",
    "            'se_resnext50_32x4d',\n",
    "            'se_resnext101_32x4d',\n",
    "            'efficientnet-b5',\n",
    "            'resnext101_32x8d']\n",
    "all_experiment_names = ['efficientnet-b3_simple',\n",
    "            'efficientnet-b5_simple',\n",
    "            'efficientnet-b7_simple',\n",
    "            'resnext50_32x4d_simple',\n",
    "            'se_resnext50_32x4d_simple',\n",
    "            'se_resnet50_simple',\n",
    "            'se_resnext101_32x4d_simple', \n",
    "            'resnext50_32x4d_with_mask_and_boundaries',\n",
    "            'se_resnext50_32x4d_with_mask_and_boundaries',\n",
    "            'se_resnext101_32x4d_with_mask_and_boundaries',\n",
    "            'efficientnet-b5_with_mask_and_boundaries',\n",
    "            'resnext101_32x8d_with_mask_and_boundaries']\n",
    "all_log_dirs = ['logs/efficientnet-b3_simple',\n",
    "            'logs/efficientnet-b5_simple',\n",
    "            'logs/efficientnet-b7_simple',\n",
    "            'logs/resnext50_32x4d_simple',\n",
    "            'logs/se_resnext50_32x4d_simple',\n",
    "            'logs/se_resnet50_simple',\n",
    "            'logs/se_resnext101_32x4d_simple', \n",
    "            'logs/resnext50_32x4d_with_mask_and_boundaries',\n",
    "            'logs/se_resnext50_32x4d_with_mask_and_boundaries',\n",
    "            'logs/se_resnext101_32x4d_with_mask_and_boundaries',\n",
    "            'logs/efficientnet-b5_with_mask_and_boundaries',\n",
    "            'logs/resnext101_32x8d_with_mask_and_boundaries']\n",
    "output_channels = [4,4,4,4,4,4,4,6,6,6,6,6]\n",
    "train_df_path = 'data/train.csv'\n",
    "data_folder = \"data/train_images/\"\n",
    "test_data_folder = \"data/test_images/\"\n",
    "val_output_folder = \"data/validation_predictions\"\n",
    "sample_submission_path = 'data/sample_submission.csv'"
   ]
  },
  {
   "cell_type": "code",
   "execution_count": null,
   "metadata": {},
   "outputs": [],
   "source": [
    "train_df, val_df = return_masks(train_df_path)"
   ]
  },
  {
   "cell_type": "code",
   "execution_count": null,
   "metadata": {},
   "outputs": [],
   "source": [
    "assert(len(all_encoder_names)==len(all_log_dirs))\n",
    "assert(len(all_encoder_names)==len(output_channels))"
   ]
  },
  {
   "cell_type": "code",
   "execution_count": null,
   "metadata": {},
   "outputs": [],
   "source": [
    "len(all_encoder_names)"
   ]
  },
  {
   "cell_type": "code",
   "execution_count": null,
   "metadata": {},
   "outputs": [],
   "source": [
    "class TestDataset(Dataset):\n",
    "    '''Dataset for test prediction'''\n",
    "    def __init__(self, root, fnames, transforms):\n",
    "        self.root = root\n",
    "        self.fnames = fnames.tolist()\n",
    "        self.num_samples = len(self.fnames)\n",
    "        self.transforms = transforms\n",
    "\n",
    "    def __getitem__(self, idx):\n",
    "        fname = self.fnames[idx]\n",
    "        path = os.path.join(self.root, fname)\n",
    "        image = cv2.imread(path)\n",
    "        image = self.transforms(image=image)[\"image\"]\n",
    "        image = torch.from_numpy(image.transpose((2, 0, 1))).float()\n",
    "        return {'features':image}\n",
    "\n",
    "    def __len__(self):\n",
    "        return self.num_samples"
   ]
  },
  {
   "cell_type": "code",
   "execution_count": null,
   "metadata": {},
   "outputs": [],
   "source": [
    "gt_masks = []\n",
    "images_id = []\n",
    "for image_idx in tqdm(range(len(val_df.index.values))):\n",
    "    image_name =  val_df.index.values[image_idx]\n",
    "    labels = val_df.loc[image_name,:][:4]\n",
    "    masks = np.zeros((256, 1600, 4), dtype=np.float32) # float32 is V.Imp\n",
    "    for idx, label in enumerate(labels.values):\n",
    "        if label is not np.nan:\n",
    "            label = label.split(\" \")\n",
    "            positions = map(int, label[0::2])\n",
    "            length = map(int, label[1::2])\n",
    "            mask = np.zeros(256 * 1600, dtype=np.uint8)\n",
    "            for pos, le in zip(positions, length):\n",
    "                mask[pos:(pos + le)] = 1\n",
    "            masks[:, :, idx] = mask.reshape(256, 1600, order='F')\n",
    "    gt_masks.append(masks)\n",
    "    images_id.append(val_df.index.values[image_idx])"
   ]
  },
  {
   "cell_type": "code",
   "execution_count": null,
   "metadata": {},
   "outputs": [],
   "source": [
    "dict_of_gt_masks = dict(zip(images_id, gt_masks))"
   ]
  },
  {
   "cell_type": "code",
   "execution_count": null,
   "metadata": {},
   "outputs": [],
   "source": [
    "device = utils.get_device()\n",
    "print(f\"device: {device}\")"
   ]
  },
  {
   "cell_type": "code",
   "execution_count": null,
   "metadata": {},
   "outputs": [],
   "source": [
    "val_loader = DataLoader(\n",
    "    TestDataset(data_folder, val_df.index.values, validation_augmentations()),\n",
    "    batch_size=32,\n",
    "    num_workers=4,\n",
    "    shuffle=False,   \n",
    "    )"
   ]
  },
  {
   "cell_type": "code",
   "execution_count": null,
   "metadata": {},
   "outputs": [],
   "source": [
    "runner = SupervisedRunner(device=device, input_key=\"features\")\n",
    "for idx, encoder_name in enumerate(all_encoder_names):\n",
    "    print('Infering {}'.format(encoder_name))\n",
    "    runner = SupervisedRunner(device=device, input_key='features')\n",
    "    model = smp.Unet(classes=output_channels[idx], \n",
    "                    encoder_name=encoder_name,\n",
    "                    encoder_weights=None)\n",
    "    predictions = runner.predict_loader(\n",
    "            model=model,\n",
    "            loader=val_loader,\n",
    "            resume=f\"{all_log_dirs[idx]}/checkpoints/best.pth\",\n",
    "            verbose=True,\n",
    "        ) \n",
    "    np.save(os.path.join(val_output_folder, all_experiment_names[idx]+'.npz'), predictions)\n",
    "    del model"
   ]
  },
  {
   "cell_type": "markdown",
   "metadata": {},
   "source": [
    "Now load and find validation score for each 1,2,3 models"
   ]
  },
  {
   "cell_type": "code",
   "execution_count": null,
   "metadata": {},
   "outputs": [],
   "source": [
    "min_area = [800, 800, 2000, 3500]\n",
    "thr_prediction = 0.5\n",
    "dices_single_model = []\n",
    "models = []\n",
    "for exp in combinations(all_experiment_names,1):\n",
    "    data = np.load(os.path.join(val_output_folder, exp[0]+'.npz.npy'))\n",
    "    data = dict(zip(images_id, data))\n",
    "    print('{} loaded'.format(exp[0]))\n",
    "    dice_preds = []\n",
    "    images_per_defect = []\n",
    "    for image_name in tqdm(images_id, total=len(images_id)):\n",
    "        with torch.no_grad():\n",
    "            predictions = nn.Sigmoid()(torch.from_numpy(data[image_name])).numpy()\n",
    "        for defect_type in range(4):\n",
    "            mask_pred =  (predictions[defect_type,...] > thr_prediction).astype(int)\n",
    "            mask_gt = dict_of_gt_masks[image_name][...,defect_type]\n",
    "            if mask_pred.sum() < min_area[defect_type]:\n",
    "                mask_pred = np.zeros(mask_pred.shape)\n",
    "            dice_gt_pr = dice(mask_gt,\n",
    "                              mask_pred,\n",
    "                              empty_score=1.0)\n",
    "            dice_preds.append(dice_gt_pr)\n",
    "            images_per_defect.append(images_id[idx])\n",
    "    print('{} : DICE validation {}'.format(exp[0], np.mean(dice_preds)))   \n",
    "    del data\n",
    "    dices_single_model.append(np.mean(dice_preds))\n",
    "    models.append(exp[0])"
   ]
  },
  {
   "cell_type": "code",
   "execution_count": null,
   "metadata": {},
   "outputs": [],
   "source": [
    "single_models_score = pd.DataFrame({'models':models,'score':dices_single_model})\n",
    "single_models_score = single_models_score.sort_values(['score'],ascending=False)\n",
    "single_models_score.head()"
   ]
  },
  {
   "cell_type": "code",
   "execution_count": null,
   "metadata": {},
   "outputs": [],
   "source": [
    "selected_models = single_models_score.models.values[single_models_score.score.values>=0.935]"
   ]
  },
  {
   "cell_type": "code",
   "execution_count": null,
   "metadata": {},
   "outputs": [],
   "source": [
    "selected_models"
   ]
  },
  {
   "cell_type": "code",
   "execution_count": null,
   "metadata": {},
   "outputs": [],
   "source": [
    "min_area = [600, 600, 1000, 2000]\n",
    "thr_prediction = 0.5\n",
    "dices_scores = []\n",
    "models = []\n",
    "for exp in combinations(selected_models, 5):\n",
    "    data = [np.load(os.path.join(val_output_folder, exp_+'.npz.npy')) for exp_ in exp]\n",
    "    data = [dict(zip(images_id, data_)) for data_ in data]\n",
    "    print('{} loaded'.format(' '.join(exp)))\n",
    "    dice_preds = []\n",
    "    images_per_defect = []\n",
    "    for image_name in tqdm(images_id, total=len(images_id)):\n",
    "        with torch.no_grad():\n",
    "            predictions = [nn.Sigmoid()(torch.from_numpy(data_[image_name][:4,...])).numpy() for data_ in data]\n",
    "            predictions = np.stack(predictions).mean(axis=0)\n",
    "        for defect_type in range(4):\n",
    "            mask_pred =  (predictions[defect_type,...] > thr_prediction).astype(int)\n",
    "            mask_gt = dict_of_gt_masks[image_name][...,defect_type]\n",
    "            if mask_pred.sum() < min_area[defect_type]:\n",
    "                mask_pred = np.zeros(mask_pred.shape)\n",
    "            dice_gt_pr = dice(mask_gt,\n",
    "                              mask_pred,\n",
    "                              empty_score=1.0)\n",
    "            dice_preds.append(dice_gt_pr)\n",
    "            images_per_defect.append(images_id[idx])\n",
    "    print('{} : DICE validation {}'.format(' '.join(exp), np.mean(dice_preds)))   \n",
    "    del data\n",
    "    dices_scores.append(np.mean(dice_preds))\n",
    "    models.append(' '.join(exp))"
   ]
  },
  {
   "cell_type": "code",
   "execution_count": null,
   "metadata": {},
   "outputs": [],
   "source": [
    "five_models_score = pd.DataFrame({'models':models,'score':dices_scores})\n",
    "five_models_score = five_models_score.sort_values(['score'],ascending=False)\n",
    "five_models_score.head()"
   ]
  },
  {
   "cell_type": "code",
   "execution_count": null,
   "metadata": {},
   "outputs": [],
   "source": [
    "min_area = [600, 600, 1000, 2000]\n",
    "thr_prediction = 0.5\n",
    "dices_scores = []\n",
    "models = []\n",
    "for exp in combinations(selected_models, 6):\n",
    "    data = [np.load(os.path.join(val_output_folder, exp_+'.npz.npy')) for exp_ in exp]\n",
    "    data = [dict(zip(images_id, data_)) for data_ in data]\n",
    "    print('{} loaded'.format(' '.join(exp)))\n",
    "    dice_preds = []\n",
    "    images_per_defect = []\n",
    "    for image_name in tqdm(images_id, total=len(images_id)):\n",
    "        with torch.no_grad():\n",
    "            predictions = [nn.Sigmoid()(torch.from_numpy(data_[image_name][:4,...])).numpy() for data_ in data]\n",
    "            predictions = np.stack(predictions).mean(axis=0)\n",
    "        for defect_type in range(4):\n",
    "            mask_pred =  (predictions[defect_type,...] > thr_prediction).astype(int)\n",
    "            mask_gt = dict_of_gt_masks[image_name][...,defect_type]\n",
    "            if mask_pred.sum() < min_area[defect_type]:\n",
    "                mask_pred = np.zeros(mask_pred.shape)\n",
    "            dice_gt_pr = dice(mask_gt,\n",
    "                              mask_pred,\n",
    "                              empty_score=1.0)\n",
    "            dice_preds.append(dice_gt_pr)\n",
    "            images_per_defect.append(images_id[idx])\n",
    "    print('{} : DICE validation {}'.format(' '.join(exp), np.mean(dice_preds)))   \n",
    "    del data\n",
    "    dices_scores.append(np.mean(dice_preds))\n",
    "    models.append(' '.join(exp))"
   ]
  },
  {
   "cell_type": "code",
   "execution_count": null,
   "metadata": {},
   "outputs": [],
   "source": [
    "six_models_score = pd.DataFrame({'models':models,'score':dices_scores})\n",
    "six_models_score = six_models_score.sort_values(['score'],ascending=False)\n",
    "six_models_score.head()"
   ]
  },
  {
   "cell_type": "code",
   "execution_count": null,
   "metadata": {},
   "outputs": [],
   "source": [
    "min_area = [600, 600, 1000, 2000]\n",
    "thr_prediction = 0.5\n",
    "dices_scores = []\n",
    "models = []\n",
    "for exp in combinations(selected_models, 4):\n",
    "    data = [np.load(os.path.join(val_output_folder, exp_+'.npz.npy')) for exp_ in exp]\n",
    "    data = [dict(zip(images_id, data_)) for data_ in data]\n",
    "    print('{} loaded'.format(' '.join(exp)))\n",
    "    dice_preds = []\n",
    "    images_per_defect = []\n",
    "    for image_name in tqdm(images_id, total=len(images_id)):\n",
    "        with torch.no_grad():\n",
    "            predictions = [nn.Sigmoid()(torch.from_numpy(data_[image_name][:4,...])).numpy() for data_ in data]\n",
    "            predictions = np.stack(predictions).mean(axis=0)\n",
    "        for defect_type in range(4):\n",
    "            mask_pred =  (predictions[defect_type,...] > thr_prediction).astype(int)\n",
    "            mask_gt = dict_of_gt_masks[image_name][...,defect_type]\n",
    "            if mask_pred.sum() < min_area[defect_type]:\n",
    "                mask_pred = np.zeros(mask_pred.shape)\n",
    "            dice_gt_pr = dice(mask_gt,\n",
    "                              mask_pred,\n",
    "                              empty_score=1.0)\n",
    "            dice_preds.append(dice_gt_pr)\n",
    "            images_per_defect.append(images_id[idx])\n",
    "    print('{} : DICE validation {}'.format(' '.join(exp), np.mean(dice_preds)))   \n",
    "    del data\n",
    "    dices_scores.append(np.mean(dice_preds))\n",
    "    models.append(' '.join(exp))"
   ]
  },
  {
   "cell_type": "code",
   "execution_count": null,
   "metadata": {},
   "outputs": [],
   "source": [
    "four_models_score = pd.DataFrame({'models':models,'score':dices_scores})\n",
    "four_models_score = four_models_score.sort_values(['score'],ascending=False)\n",
    "four_models_score.head()"
   ]
  },
  {
   "cell_type": "code",
   "execution_count": null,
   "metadata": {},
   "outputs": [],
   "source": [
    "all_val_scores = pd.concat([five_models_score, single_models_score, four_models_score, single_models_score])\n",
    "all_val_scores = all_val_scores.sort_values(['score'],ascending=False)\n",
    "all_val_scores.loc[:,'N_models_in_stack'] = all_val_scores.models.apply(lambda x: len(x.split(' ')))\n",
    "all_val_scores.head()"
   ]
  },
  {
   "cell_type": "code",
   "execution_count": null,
   "metadata": {},
   "outputs": [],
   "source": [
    "all_val_scores.to_csv('./validation_results.tsv', index=False)"
   ]
  },
  {
   "cell_type": "code",
   "execution_count": null,
   "metadata": {},
   "outputs": [],
   "source": [
    "print('The best composition of models is : {}, \\nsecond best is : {},\\n third : {}'.format(all_val_scores.models.values[0], \n",
    "                                                                                all_val_scores.models.values[1],\n",
    "                                                                                all_val_scores.models.values[2]))"
   ]
  },
  {
   "cell_type": "markdown",
   "metadata": {},
   "source": [
    "#### Find best thresholds for min_mask_size : tune different thesholds per each defect type"
   ]
  },
  {
   "cell_type": "code",
   "execution_count": null,
   "metadata": {},
   "outputs": [],
   "source": [
    "tuning_sizes = [100*x for x in range(51)]"
   ]
  },
  {
   "cell_type": "code",
   "execution_count": null,
   "metadata": {
    "scrolled": true
   },
   "outputs": [],
   "source": [
    "all_ts = []\n",
    "all_dice_score_ts = []\n",
    "all_tested_models = []\n",
    "all_defect_types = []\n",
    "for models_idx in range(4):\n",
    "    data = [np.load(os.path.join(val_output_folder, exp_+'.npz.npy')) for exp_ in all_val_scores.models.values[models_idx].split(' ')]\n",
    "    print('{} are loaded'.format(all_val_scores.models.values[models_idx]))\n",
    "    data = [dict(zip(images_id, data_)) for data_ in data]\n",
    "    for defect_type in range(4):\n",
    "        predictions = np.zeros((len(images_id), 256, 1600))\n",
    "        mask_gt = np.zeros((len(images_id), 256, 1600))\n",
    "        for idx in tqdm(range(len(images_id)), total=len(images_id)):\n",
    "            image_name = images_id[idx]\n",
    "            pred_ = [nn.Sigmoid()(torch.from_numpy(data_[image_name][defect_type,...])).numpy() for data_ in data]\n",
    "            pred_ = (np.stack(pred_).mean(axis=0) > thr_prediction).astype(int)\n",
    "            predictions[idx] = pred_\n",
    "            mask_gt[idx] = dict_of_gt_masks[image_name][...,defect_type]\n",
    "        mask_sizes = [x.sum() for x in predictions]\n",
    "        predictions_masked = predictions.copy()\n",
    "        best_score = 0\n",
    "        for ts in tuning_sizes:\n",
    "            predictions_masked[[x<ts for x in mask_sizes]] = np.zeros((256, 1600))\n",
    "            dice_score_ts = np.mean([dice(pair[0], pair[1], empty_score=1.0) for pair in zip(mask_gt, predictions_masked)])\n",
    "            print('{} : {}'.format(ts, dice_score_ts))\n",
    "            if dice_score_ts > best_score:\n",
    "                best_ts = ts\n",
    "                best_score = dice_score_ts\n",
    "            all_ts.append(ts)\n",
    "            all_dice_score_ts.append(dice_score_ts)\n",
    "            all_tested_models.append(all_val_scores.models.values[models_idx])\n",
    "            all_defect_types.append('defect_type '+str(defect_type))\n",
    "        print('{}, defect type {} : best score {} at {}'.format(all_val_scores.models.values[models_idx], defect_type, \n",
    "                                                               best_score, best_ts))\n",
    "    del data"
   ]
  },
  {
   "cell_type": "code",
   "execution_count": null,
   "metadata": {},
   "outputs": [],
   "source": [
    "validation_result = pd.DataFrame({'threshold':all_ts,\n",
    "                                  'dice_score':all_dice_score_ts,\n",
    "                                  'models':all_tested_models,\n",
    "                                  'defect_type':all_defect_types})"
   ]
  },
  {
   "cell_type": "code",
   "execution_count": null,
   "metadata": {},
   "outputs": [],
   "source": [
    "validation_result_best = validation_result.sort_values('dice_score', ascending=False).drop_duplicates(['defect_type','models'])\n",
    "validation_result_best.head()"
   ]
  },
  {
   "cell_type": "code",
   "execution_count": null,
   "metadata": {
    "scrolled": true
   },
   "outputs": [],
   "source": [
    "f, ax = plt.subplots(1,1,figsize=(15,15))\n",
    "validation_result = validation_result.loc[validation_result.threshold<4500,:]\n",
    "sns.lineplot(x=\"threshold\", y=\"dice_score\",\n",
    "                   style=\"models\", hue=\"defect_type\",\n",
    "                  data=validation_result, ax=ax)\n",
    "plt.tight_layout()"
   ]
  },
  {
   "cell_type": "markdown",
   "metadata": {},
   "source": [
    "### Now recalculate using best threshold for each"
   ]
  },
  {
   "cell_type": "code",
   "execution_count": null,
   "metadata": {},
   "outputs": [],
   "source": [
    "dices_scores = []\n",
    "models = []\n",
    "for models_idx in range(4):\n",
    "    data = [np.load(os.path.join(val_output_folder, exp_+'.npz.npy')) for exp_ in all_val_scores.models.values[models_idx].split(' ')]\n",
    "    data = [dict(zip(images_id, data_)) for data_ in data]\n",
    "    print('{} loaded'.format(' '.join(exp)))\n",
    "    dice_preds = []\n",
    "    images_per_defect = []\n",
    "    for image_name in tqdm(images_id, total=len(images_id)):\n",
    "        with torch.no_grad():\n",
    "            predictions = [nn.Sigmoid()(torch.from_numpy(data_[image_name][:4,...])).numpy() for data_ in data]\n",
    "            predictions = np.stack(predictions).mean(axis=0)\n",
    "        for defect_type in range(4):\n",
    "            mask_pred =  (predictions[defect_type,...] > thr_prediction).astype(int)\n",
    "            mask_gt = dict_of_gt_masks[image_name][...,defect_type]\n",
    "            size_mask = (validation_result_best.models==all_val_scores.models.values[models_idx]) & (validation_result_best.defect_type=='defect_type '+str(defect_type))\n",
    "            if mask_pred.sum() < validation_result_best.threshold[size_mask].values[0]:\n",
    "                mask_pred = np.zeros(mask_pred.shape)\n",
    "            dice_gt_pr = dice(mask_gt,\n",
    "                              mask_pred,\n",
    "                              empty_score=1.0)\n",
    "            dice_preds.append(dice_gt_pr)\n",
    "            images_per_defect.append(images_id[idx])\n",
    "    print('{} : DICE validation {}'.format(all_val_scores.models.values[models_idx], np.mean(dice_preds)))   \n",
    "    del data\n",
    "    dices_scores.append(np.mean(dice_preds))\n",
    "    models.append(all_val_scores.models.values[models_idx])"
   ]
  },
  {
   "cell_type": "code",
   "execution_count": null,
   "metadata": {},
   "outputs": [],
   "source": [
    "final_dt = pd.DataFrame({'models':models, 'score':dices_scores})\n",
    "final_dt = final_dt.sort_values(['score'],ascending=False)\n",
    "final_dt.head()"
   ]
  },
  {
   "cell_type": "markdown",
   "metadata": {},
   "source": [
    "Now get predictions for test"
   ]
  },
  {
   "cell_type": "code",
   "execution_count": null,
   "metadata": {},
   "outputs": [],
   "source": [
    "sample_submission = pd.read_csv(sample_submission_path)\n",
    "test_images = np.unique([x.split('_')[0] for x in sample_submission.ImageId_ClassId.values])\n",
    "test_loader = DataLoader(\n",
    "    TestDataset(test_data_folder, test_images, validation_augmentations()),\n",
    "    batch_size=32,\n",
    "    num_workers=4,\n",
    "    shuffle=False,   \n",
    "    )"
   ]
  },
  {
   "cell_type": "code",
   "execution_count": null,
   "metadata": {},
   "outputs": [],
   "source": [
    "final_exps = final_dt.models.values[0].split(' ')"
   ]
  },
  {
   "cell_type": "code",
   "execution_count": null,
   "metadata": {},
   "outputs": [],
   "source": [
    "runner = SupervisedRunner(device=device, input_key=\"features\")\n",
    "predictions_test = []\n",
    "for exp_name in final_exps:\n",
    "    print('Infering test using {}'.format(exp_name))\n",
    "    idx = np.where(np.array(all_experiment_names)==final_exps[0])[0][0]\n",
    "    runner = SupervisedRunner(device=device, input_key='features')\n",
    "    model = smp.Unet(classes=output_channels[idx], \n",
    "                    encoder_name=all_encoder_names[idx],\n",
    "                    encoder_weights=None)\n",
    "    predictions_test.append(runner.predict_loader(\n",
    "            model=model,\n",
    "            loader=test_loader,\n",
    "            resume=f\"{all_log_dirs[idx]}/checkpoints/best.pth\",\n",
    "            verbose=True,\n",
    "        ))"
   ]
  },
  {
   "cell_type": "code",
   "execution_count": null,
   "metadata": {
    "scrolled": true
   },
   "outputs": [],
   "source": [
    "images_id = []\n",
    "masks_rle = []\n",
    "for idx in tqdm(range(len(test_images))):\n",
    "    image_pred = np.stack([nn.Sigmoid()(torch.from_numpy(data_[idx][:4,...])).numpy() for data_ in predictions_test]).mean(axis=0)\n",
    "    for defect_type in range(4):\n",
    "        image_pred_bin = image_pred[defect_type,...]>0.5\n",
    "        ts_mask = (validation_result_best.models==final_dt.models.values[0]) & (validation_result_best.defect_type == 'defect_type '+str(defect_type))\n",
    "        if image_pred_bin.sum() < validation_result_best.threshold[ts_mask].values[0]:\n",
    "            masks_rle.append('')\n",
    "        else:\n",
    "            masks_rle.append(mask2rle(image_pred_bin))\n",
    "        images_id.append(test_images[idx]+'_{}'.format(defect_type+1))     "
   ]
  },
  {
   "cell_type": "code",
   "execution_count": null,
   "metadata": {},
   "outputs": [],
   "source": [
    "submission = pd.DataFrame({'ImageId_ClassId':images_id,'EncodedPixels':masks_rle})\n",
    "submission.head()"
   ]
  },
  {
   "cell_type": "markdown",
   "metadata": {},
   "source": [
    "#### Add classification predictions"
   ]
  },
  {
   "cell_type": "code",
   "execution_count": null,
   "metadata": {},
   "outputs": [],
   "source": [
    "classifications = pd.read_csv('classificaion_test/effnetb3_3folds.csv')\n",
    "classifications.columns.values[1] = 'has_mask'"
   ]
  },
  {
   "cell_type": "code",
   "execution_count": null,
   "metadata": {},
   "outputs": [],
   "source": [
    "submission = submission.merge(classifications)"
   ]
  },
  {
   "cell_type": "code",
   "execution_count": null,
   "metadata": {},
   "outputs": [],
   "source": [
    "submission.head()"
   ]
  },
  {
   "cell_type": "code",
   "execution_count": null,
   "metadata": {},
   "outputs": [],
   "source": [
    "submission.loc[:,'has_mask_segmentations'] = submission.EncodedPixels.apply(lambda x: int(x!=''))"
   ]
  },
  {
   "cell_type": "code",
   "execution_count": null,
   "metadata": {},
   "outputs": [],
   "source": [
    "submission.groupby([\"has_mask\", \"has_mask_segmentations\"]).size()"
   ]
  },
  {
   "cell_type": "code",
   "execution_count": null,
   "metadata": {},
   "outputs": [],
   "source": [
    "submission.loc[submission.has_mask==0, 'EncodedPixels'] = ''"
   ]
  },
  {
   "cell_type": "code",
   "execution_count": null,
   "metadata": {},
   "outputs": [],
   "source": [
    "submission.to_csv('./submission_vA.tsv',index=False)"
   ]
  },
  {
   "cell_type": "code",
   "execution_count": null,
   "metadata": {},
   "outputs": [],
   "source": []
  },
  {
   "cell_type": "code",
   "execution_count": null,
   "metadata": {},
   "outputs": [],
   "source": []
  }
 ],
 "metadata": {
  "kernelspec": {
   "display_name": "pytorch",
   "language": "python",
   "name": "mykernel"
  },
  "language_info": {
   "codemirror_mode": {
    "name": "ipython",
    "version": 3
   },
   "file_extension": ".py",
   "mimetype": "text/x-python",
   "name": "python",
   "nbconvert_exporter": "python",
   "pygments_lexer": "ipython3",
   "version": "3.7.1"
  }
 },
 "nbformat": 4,
 "nbformat_minor": 2
}
