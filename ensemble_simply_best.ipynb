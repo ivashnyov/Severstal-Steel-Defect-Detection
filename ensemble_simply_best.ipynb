{
 "cells": [
  {
   "cell_type": "code",
   "execution_count": null,
   "metadata": {},
   "outputs": [],
   "source": [
    "%load_ext autoreload\n",
    "%autoreload\n",
    "from factory import *\n",
    "import torch\n",
    "#from model import Unet\n",
    "from catalyst.dl.callbacks import CriterionCallback, EarlyStoppingCallback\n",
    "from catalyst.dl.runner import SupervisedRunner\n",
    "from pytorch_toolbelt import losses as L\n",
    "import collections\n",
    "from pytorch_toolbelt.utils.catalyst import * \n",
    "from metrics import *\n",
    "import custom_tta as tta\n",
    "from pytorch_toolbelt.inference.tiles import *\n",
    "import matplotlib.pyplot as plt\n",
    "from viz_utils import *\n",
    "from tqdm import tqdm\n",
    "import segmentation_models_pytorch as smp\n",
    "from tqdm import tqdm_notebook\n",
    "import pretrainedmodels\n",
    "from pytorch_toolbelt.inference import tta\n",
    "from itertools import combinations\n",
    "from catalyst import utils\n",
    "import seaborn as sns\n",
    "%matplotlib inline"
   ]
  },
  {
   "cell_type": "code",
   "execution_count": null,
   "metadata": {},
   "outputs": [],
   "source": [
    "all_encoder_names = [\n",
    "            #'resnext50_32x4d',\n",
    "            #'se_resnext101_32x4d', \n",
    "            #'efficientnet-b5',\n",
    "            'resnext101_32x8d',\n",
    "            #'se_resnet50']\n",
    "all_experiment_names = [\n",
    "            #'resnext50_32x4d_simple',\n",
    "            #'se_resnext101_32x4d_simple', \n",
    "            #'efficientnet-b5_simple', \n",
    "            'resnext101_32x8d_with_mask_and_boundaries',\n",
    "            #'se_resnet50_simple'\n",
    "            ]\n",
    "all_log_dirs = [\n",
    "            #'logs/resnext50_32x4d_simple',\n",
    "            #'logs/se_resnext101_32x4d_simple', \n",
    "            #'logs/efficientnet-b5_simple',\n",
    "            'logs/resnext101_32x8d_with_mask_and_boundaries',\n",
    "            #'logs/se_resnet50_simple'\n",
    "            ]\n",
    "#output_channels = [4,4,4,4,4]\n",
    "output_channels = [6]   \n",
    "train_df_path = 'data/train.csv'\n",
    "data_folder = \"data/train_images/\"\n",
    "test_data_folder = \"data/test_images/\"\n",
    "val_output_folder = \"data/validation_predictions\"\n",
    "sample_submission_path = 'data/sample_submission.csv'"
   ]
  },
  {
   "cell_type": "code",
   "execution_count": null,
   "metadata": {},
   "outputs": [],
   "source": [
    "class TestDataset(Dataset):\n",
    "    '''Dataset for test prediction'''\n",
    "    def __init__(self, root, fnames, transforms):\n",
    "        self.root = root\n",
    "        self.fnames = fnames.tolist()\n",
    "        self.num_samples = len(self.fnames)\n",
    "        self.transforms = transforms\n",
    "\n",
    "    def __getitem__(self, idx):\n",
    "        fname = self.fnames[idx]\n",
    "        path = os.path.join(self.root, fname)\n",
    "        image = cv2.imread(path)\n",
    "        image = self.transforms(image=image)[\"image\"]\n",
    "        image = torch.from_numpy(image.transpose((2, 0, 1))).float()\n",
    "        return {'features':image}\n",
    "\n",
    "    def __len__(self):\n",
    "        return self.num_samples"
   ]
  },
  {
   "cell_type": "code",
   "execution_count": null,
   "metadata": {},
   "outputs": [],
   "source": [
    "sample_submission = pd.read_csv(sample_submission_path)\n",
    "test_images = np.unique([x.split('_')[0] for x in sample_submission.ImageId_ClassId.values])\n",
    "test_loader = DataLoader(\n",
    "    TestDataset(test_data_folder, test_images, validation_augmentations()),\n",
    "    batch_size=32,\n",
    "    num_workers=4,\n",
    "    shuffle=False,   \n",
    "    )"
   ]
  },
  {
   "cell_type": "code",
   "execution_count": null,
   "metadata": {},
   "outputs": [],
   "source": [
    "device = utils.get_device()\n",
    "print(f\"device: {device}\")"
   ]
  },
  {
   "cell_type": "code",
   "execution_count": null,
   "metadata": {},
   "outputs": [],
   "source": [
    "runner = SupervisedRunner(device=device, input_key=\"features\")\n",
    "predictions_test = []\n",
    "for idx in range(len(all_encoder_names)):\n",
    "    print('Infering test using {}'.format(all_encoder_names[idx]))\n",
    "    runner = SupervisedRunner(device=device, input_key='features')\n",
    "    model = smp.Unet(classes=output_channels[idx], \n",
    "                    encoder_name=all_encoder_names[idx],\n",
    "                    encoder_weights=None)\n",
    "    predictions_test.append(runner.predict_loader(\n",
    "            model=model,\n",
    "            loader=test_loader,\n",
    "            resume=f\"{all_log_dirs[idx]}/checkpoints/best.pth\",\n",
    "            verbose=True,\n",
    "        ))"
   ]
  },
  {
   "cell_type": "code",
   "execution_count": null,
   "metadata": {
    "scrolled": true
   },
   "outputs": [],
   "source": [
    "images_id = []\n",
    "masks_rle = []\n",
    "min_area = [600, 600, 1000, 2000]\n",
    "for idx in tqdm(range(len(test_images))):\n",
    "    image_pred = np.stack([nn.Sigmoid()(torch.from_numpy(data_[idx][:4,...])).numpy() for data_ in predictions_test]).mean(axis=0)\n",
    "    for defect_type in range(4):\n",
    "        image_pred_bin = image_pred[defect_type,...]>0.5\n",
    "        if image_pred_bin.sum() < min_size[defect_type]:\n",
    "            masks_rle.append('')\n",
    "        else:\n",
    "            masks_rle.append(mask2rle(image_pred_bin))\n",
    "        images_id.append(test_images[idx]+'_{}'.format(defect_type+1))     "
   ]
  },
  {
   "cell_type": "code",
   "execution_count": null,
   "metadata": {},
   "outputs": [],
   "source": [
    "submission = pd.DataFrame({'ImageId_ClassId':images_id,'EncodedPixels':masks_rle})\n",
    "submission.head()"
   ]
  },
  {
   "cell_type": "code",
   "execution_count": null,
   "metadata": {},
   "outputs": [],
   "source": [
    "classifications = pd.read_csv('classificaion_test/effnetb3_3folds_true_validation_tta_fliplr.csv')\n",
    "classifications.columns.values[1] = 'has_mask'"
   ]
  },
  {
   "cell_type": "code",
   "execution_count": null,
   "metadata": {},
   "outputs": [],
   "source": [
    "submission = submission.merge(classifications)"
   ]
  },
  {
   "cell_type": "code",
   "execution_count": null,
   "metadata": {},
   "outputs": [],
   "source": [
    "submission.loc[submission.has_mask==0, 'EncodedPixels'] = ''"
   ]
  },
  {
   "cell_type": "code",
   "execution_count": null,
   "metadata": {},
   "outputs": [],
   "source": [
    "submission.loc[:,['ImageId_ClassId', 'EncodedPixels']].to_csv('./submission_vD.tsv',index=False)"
   ]
  },
  {
   "cell_type": "code",
   "execution_count": null,
   "metadata": {},
   "outputs": [],
   "source": []
  }
 ],
 "metadata": {
  "kernelspec": {
   "display_name": "pytorch",
   "language": "python",
   "name": "mykernel"
  },
  "language_info": {
   "codemirror_mode": {
    "name": "ipython",
    "version": 3
   },
   "file_extension": ".py",
   "mimetype": "text/x-python",
   "name": "python",
   "nbconvert_exporter": "python",
   "pygments_lexer": "ipython3",
   "version": "3.7.1"
  }
 },
 "nbformat": 4,
 "nbformat_minor": 2
}
