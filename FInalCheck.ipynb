{
 "cells": [
  {
   "cell_type": "code",
   "execution_count": 1,
   "metadata": {},
   "outputs": [
    {
     "name": "stderr",
     "output_type": "stream",
     "text": [
      "pyarrow not available, switching to pickle. To install pyarrow, run `pip install pyarrow`.\n",
      "lz4 not available, disabling compression. To install lz4, run `pip install lz4`.\n"
     ]
    }
   ],
   "source": [
    "%load_ext autoreload\n",
    "%autoreload\n",
    "from factory import *\n",
    "import torch\n",
    "import os \n",
    "import sys\n",
    "from catalyst.dl.callbacks import CriterionCallback, EarlyStoppingCallback, OptimizerCallback, CriterionAggregatorCallback, F1ScoreCallback, AUCCallback\n",
    "from catalyst.dl.runner import SupervisedRunner\n",
    "from pytorch_toolbelt import losses as L\n",
    "from pytorch_toolbelt.inference import tta\n",
    "import collections\n",
    "from pytorch_toolbelt.utils.catalyst import * \n",
    "from metrics import *\n",
    "import matplotlib.pyplot as plt\n",
    "from viz_utils import *\n",
    "from tqdm import tqdm\n",
    "import cv2\n",
    "import segmentation_models_pytorch as smp\n",
    "from catalyst.contrib.optimizers import RAdam, Lookahead\n",
    "%matplotlib inline"
   ]
  },
  {
   "cell_type": "code",
   "execution_count": 2,
   "metadata": {},
   "outputs": [],
   "source": [
    "#encoder_names = ['efficientnet-b5',\n",
    "#            'efficientnet-b7',\n",
    "#            'se_resnext50_32x4d',\n",
    "#            'se_resnext101_32x4d']\n",
    "#experiment_names = [\n",
    "#            'efficientnet-b5_simple_posttrain',\n",
    "#            'efficientnet-b7_simple_posttrain',\n",
    "#            'se_resnext50_32x4d_simple_posttrain',\n",
    "#            'se_resnext101_32x4d_simple_posttrain']\n",
    "#log_dirs = [\n",
    "#            'logs/efficientnet-b5_simple_posttrain',\n",
    "#            'logs/efficientnet-b7_simple_posttrain',\n",
    "#            'logs/se_resnext50_32x4d_simple_posttrain',\n",
    "#            'logs/se_resnext101_32x4d_simple_posttrain']\n",
    "#output_channels = [4,4,4,4]\n",
    "experiment_names = [\n",
    "    'se_resnext50_32x4d_simple',\n",
    "    'se_resnext101_32x4d_simple',\n",
    "    'efficientnet-b5_simple',\n",
    "    'resnext50_32x4d_with_mask_and_boundaries', \n",
    "    'resnext101_32x8d_with_mask_and_boundaries', \n",
    "    'se_resnet50_simple',\n",
    "    'resnext50_32x4d_simple']\n",
    "log_dirs = [\n",
    "    'logs/se_resnext50_32x4d_simple',\n",
    "    'logs/se_resnext101_32x4d_simple',\n",
    "    'logs/efficientnet-b5_simple',\n",
    "    'logs/resnext50_32x4d_with_mask_and_boundaries', \n",
    "    'logs/resnext101_32x8d_with_mask_and_boundaries', \n",
    "    'logs/se_resnet50_simple',\n",
    "    'logs/resnext50_32x4d_simple']\n",
    "encoder_names = [\n",
    "    'se_resnext50_32x4d',\n",
    "    'se_resnext101_32x4d',\n",
    "    'efficientnet-b5',\n",
    "    'resnext50_32x4d', \n",
    "    'resnext101_32x8d', \n",
    "    'se_resnet50', \n",
    "    'resnext50_32x4d']\n",
    "output_channels = [4,4,4,6,6,4,4]\n",
    "train_df_path = 'data/train.csv'\n",
    "data_folder = \"data/train_images/\"\n",
    "test_data_folder = \"data/test_images/\"\n",
    "val_output_folder = \"data/validation_predictions\"\n",
    "sample_submission_path = 'data/sample_submission.csv'"
   ]
  },
  {
   "cell_type": "code",
   "execution_count": 3,
   "metadata": {},
   "outputs": [],
   "source": [
    "class TestDataset(Dataset):\n",
    "    '''Dataset for test prediction'''\n",
    "    def __init__(self, root, fnames, transforms):\n",
    "        self.root = root\n",
    "        self.fnames = fnames.tolist()\n",
    "        self.num_samples = len(self.fnames)\n",
    "        self.transforms = transforms\n",
    "\n",
    "    def __getitem__(self, idx):\n",
    "        fname = self.fnames[idx]\n",
    "        path = os.path.join(self.root, fname)\n",
    "        image = cv2.imread(path)\n",
    "        image = self.transforms(image=image)[\"image\"]\n",
    "        image = torch.from_numpy(image.transpose((2, 0, 1))).float()\n",
    "        return {'features':image, 'image_name':fname}\n",
    "\n",
    "    def __len__(self):\n",
    "        return self.num_samples"
   ]
  },
  {
   "cell_type": "code",
   "execution_count": 5,
   "metadata": {},
   "outputs": [],
   "source": [
    "thr = [0.55, 0.5, 0.55, 0.40]\n",
    "min_size = [650, 500, 1200, 2100]"
   ]
  },
  {
   "cell_type": "code",
   "execution_count": 6,
   "metadata": {},
   "outputs": [],
   "source": [
    "sample_submission = pd.read_csv(sample_submission_path)\n",
    "test_images = np.unique([x.split('_')[0] for x in sample_submission.ImageId_ClassId.values])\n",
    "test_loader = DataLoader(\n",
    "    TestDataset(test_data_folder, test_images, validation_augmentations()),\n",
    "    batch_size=8,\n",
    "    num_workers=12,\n",
    "    shuffle=False,   \n",
    "    )"
   ]
  },
  {
   "cell_type": "code",
   "execution_count": 7,
   "metadata": {},
   "outputs": [
    {
     "name": "stdout",
     "output_type": "stream",
     "text": [
      "Infering test using se_resnext50_32x4d_simple\n",
      "=> loading checkpoint logs/se_resnext50_32x4d_simple/checkpoints/best.pth\n",
      "loaded checkpoint logs/se_resnext50_32x4d_simple/checkpoints/best.pth (epoch 78)\n",
      "0/1 * Epoch (infer): 100% 226/226 [01:30<00:00,  2.51it/s, _timers/_fps=340.557]\n",
      "Top best models:\n",
      "\n",
      "Infering test using se_resnext101_32x4d_simple\n",
      "=> loading checkpoint logs/se_resnext101_32x4d_simple/checkpoints/best.pth\n",
      "loaded checkpoint logs/se_resnext101_32x4d_simple/checkpoints/best.pth (epoch 47)\n",
      "0/1 * Epoch (infer): 100% 226/226 [01:57<00:00,  1.92it/s, _timers/_fps=223.877]\n",
      "Top best models:\n",
      "\n",
      "Infering test using efficientnet-b5_simple\n",
      "=> loading checkpoint logs/efficientnet-b5_simple/checkpoints/best.pth\n",
      "loaded checkpoint logs/efficientnet-b5_simple/checkpoints/best.pth (epoch 39)\n",
      "0/1 * Epoch (infer): 100% 226/226 [02:11<00:00,  1.72it/s, _timers/_fps=288.479]\n",
      "Top best models:\n",
      "\n",
      "Infering test using resnext50_32x4d_with_mask_and_boundaries\n",
      "=> loading checkpoint logs/resnext50_32x4d_with_mask_and_boundaries/checkpoints/best.pth\n",
      "loaded checkpoint logs/resnext50_32x4d_with_mask_and_boundaries/checkpoints/best.pth (epoch 86)\n",
      "0/1 * Epoch (infer): 100% 226/226 [01:32<00:00,  2.44it/s, _timers/_fps=365.557]\n",
      "Top best models:\n",
      "\n",
      "Infering test using resnext101_32x8d_with_mask_and_boundaries\n",
      "=> loading checkpoint logs/resnext101_32x8d_with_mask_and_boundaries/checkpoints/best.pth\n",
      "loaded checkpoint logs/resnext101_32x8d_with_mask_and_boundaries/checkpoints/best.pth (epoch 56)\n",
      "0/1 * Epoch (infer): 100% 226/226 [02:39<00:00,  1.42it/s, _timers/_fps=259.796]\n",
      "Top best models:\n",
      "\n",
      "Infering test using se_resnet50_simple\n",
      "=> loading checkpoint logs/se_resnet50_simple/checkpoints/best.pth\n",
      "loaded checkpoint logs/se_resnet50_simple/checkpoints/best.pth (epoch 74)\n",
      "0/1 * Epoch (infer): 100% 226/226 [01:15<00:00,  2.98it/s, _timers/_fps=375.241]\n",
      "Top best models:\n",
      "\n",
      "Infering test using resnext50_32x4d_simple\n",
      "=> loading checkpoint logs/resnext50_32x4d_simple/checkpoints/best.pth\n",
      "loaded checkpoint logs/resnext50_32x4d_simple/checkpoints/best.pth (epoch 48)\n",
      "0/1 * Epoch (infer): 100% 226/226 [01:28<00:00,  2.55it/s, _timers/_fps=325.074]\n",
      "Top best models:\n",
      "\n"
     ]
    }
   ],
   "source": [
    "predictions_test = []\n",
    "for idx, exp_name in enumerate(experiment_names):\n",
    "    print('Infering test using {}'.format(exp_name))\n",
    "    runner = SupervisedRunner(input_key='features')\n",
    "    model = smp.Unet(classes=output_channels[idx], \n",
    "                    encoder_name=encoder_names[idx],\n",
    "                    encoder_weights=None)\n",
    "    predictions_test.append(runner.predict_loader(\n",
    "            model=model,\n",
    "            loader=test_loader,\n",
    "            resume=f\"{log_dirs[idx]}/checkpoints/best.pth\",\n",
    "            verbose=True,\n",
    "        ))"
   ]
  },
  {
   "cell_type": "code",
   "execution_count": 8,
   "metadata": {},
   "outputs": [
    {
     "name": "stderr",
     "output_type": "stream",
     "text": [
      "100%|██████████| 1801/1801 [00:48<00:00, 36.86it/s]\n"
     ]
    }
   ],
   "source": [
    "images_id = []\n",
    "masks_rle = []\n",
    "for idx in tqdm(range(len(test_images))):\n",
    "    image_pred = np.stack([nn.Sigmoid()(torch.from_numpy(data_[idx][:4,...])).numpy() for data_ in predictions_test]).mean(axis=0)\n",
    "    for defect_type in range(4):\n",
    "        image_pred_bin = image_pred[defect_type,...]>thr[defect_type]\n",
    "        if image_pred_bin.sum() < min_area[defect_type]:\n",
    "            masks_rle.append('')\n",
    "        else:\n",
    "            masks_rle.append(mask2rle(image_pred_bin))\n",
    "        images_id.append(test_images[idx]+'_{}'.format(defect_type+1))     "
   ]
  },
  {
   "cell_type": "code",
   "execution_count": 9,
   "metadata": {},
   "outputs": [],
   "source": [
    "submission = pd.DataFrame({'ImageId_ClassId':images_id,'EncodedPixels':masks_rle})\n",
    "classifications = pd.read_csv('classificaion_test/effnetb3_3folds.csv')\n",
    "classifications.columns.values[1] = 'has_mask'\n",
    "submission = submission.merge(classifications)\n",
    "submission.loc[submission.has_mask==0, 'EncodedPixels'] = ''\n",
    "submission.to_csv('./submission_finalBlendV3_simplePosprocess.tsv')"
   ]
  },
  {
   "cell_type": "markdown",
   "metadata": {},
   "source": [
    "Now a different inference"
   ]
  },
  {
   "cell_type": "code",
   "execution_count": null,
   "metadata": {},
   "outputs": [],
   "source": [
    "def postprocess(probability, cls):\n",
    "    min_sizes = [600, 600, 1000, 2000]\n",
    "    min_size = min_sizes[cls-1]\n",
    "    thresholds = [0.5, 0.5, 0.5, 0.5]\n",
    "    threshold = thresholds[cls-1]\n",
    "    mask = cv2.threshold(probability, threshold, 1, cv2.THRESH_BINARY)[1]\n",
    "    num_component, component = cv2.connectedComponents(mask.astype(np.uint8))\n",
    "    predictions = np.zeros((256, 1600), np.float32)\n",
    "    num = 0\n",
    "    for c in range(1, num_component):\n",
    "        p = (component == c)\n",
    "        if p.sum() > min_size:\n",
    "            predictions[p] = 1\n",
    "            num += 1\n",
    "    return predictions, num"
   ]
  },
  {
   "cell_type": "code",
   "execution_count": null,
   "metadata": {},
   "outputs": [],
   "source": [
    "def load_model(idx, classes=4):\n",
    "    model = smp.Unet(encoder_names[idx], \n",
    "                     encoder_weights=None, \n",
    "                     classes=output_channels[idx], \n",
    "                     activation=\"sigmoid\")\n",
    "    model.load_state_dict(torch.load(os.path.join(log_dirs[idx],'checkpoints/best.pth'))['model_state_dict'])\n",
    "    model.cuda()\n",
    "    model.eval()\n",
    "    return model\n",
    "models = [load_model(idx) for idx in range(len(encoder_names))]"
   ]
  },
  {
   "cell_type": "code",
   "execution_count": null,
   "metadata": {},
   "outputs": [],
   "source": [
    "predictions = []\n",
    "for i, batch in enumerate(tqdm(test_loader)):\n",
    "    fnames = batch['image_name']\n",
    "    images = batch['features']\n",
    "    res = []\n",
    "    with torch.no_grad():\n",
    "        for model in models:\n",
    "            batch_preds = torch.sigmoid(model(images.cuda()))\n",
    "            res.append(batch_preds[:,:4,...])\n",
    "    res = torch.stack(res)\n",
    "    batch_preds = torch.mean(res, dim=0)\n",
    "    batch_preds = batch_preds.detach().cpu().numpy()\n",
    "\n",
    "    for fname, preds in zip(fnames, batch_preds):\n",
    "        #fname_defects = defect_dict[fname]\n",
    "        #no_defect_types = [i for i in [1, 2, 3, 4] if i not in fname_defects]\n",
    "        #no_defect_types = [i for i in [1, 2, 3, 4]]\n",
    "        #for defect_type in no_defect_types:\n",
    "        #    preds[defect_type - 1] = np.zeros(shape=(256, 1600))\n",
    "\n",
    "        for cls, pred in enumerate(preds):\n",
    "            pred, num = postprocess(pred, cls + 1)\n",
    "            rle = mask2rle(pred)\n",
    "            name = fname + f\"_{cls + 1}\"\n",
    "            predictions.append([name, rle])"
   ]
  },
  {
   "cell_type": "code",
   "execution_count": null,
   "metadata": {},
   "outputs": [],
   "source": [
    "submission = pd.DataFrame({'ImageId_ClassId':[x[0] for x in predictions],'EncodedPixels':[x[1] for x in predictions]})\n",
    "classifications = pd.read_csv('classificaion_test/effnetb3_3folds.csv')\n",
    "classifications.columns.values[1] = 'has_mask'\n",
    "submission = submission.merge(classifications)\n",
    "submission.loc[submission.has_mask==0, 'EncodedPixels'] = ''\n",
    "submission.to_csv('./submission_finalBlendV2_newPosprocess.tsv')"
   ]
  },
  {
   "cell_type": "code",
   "execution_count": null,
   "metadata": {},
   "outputs": [],
   "source": [
    ".shape"
   ]
  },
  {
   "cell_type": "code",
   "execution_count": null,
   "metadata": {},
   "outputs": [],
   "source": [
    "batch_preds.sum()"
   ]
  },
  {
   "cell_type": "code",
   "execution_count": null,
   "metadata": {},
   "outputs": [],
   "source": []
  }
 ],
 "metadata": {
  "kernelspec": {
   "display_name": "Python 3",
   "language": "python",
   "name": "python3"
  },
  "language_info": {
   "codemirror_mode": {
    "name": "ipython",
    "version": 3
   },
   "file_extension": ".py",
   "mimetype": "text/x-python",
   "name": "python",
   "nbconvert_exporter": "python",
   "pygments_lexer": "ipython3",
   "version": "3.7.3"
  }
 },
 "nbformat": 4,
 "nbformat_minor": 2
}
