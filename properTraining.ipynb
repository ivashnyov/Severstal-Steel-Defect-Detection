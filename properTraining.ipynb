{
 "cells": [
  {
   "cell_type": "code",
   "execution_count": 67,
   "metadata": {},
   "outputs": [
    {
     "name": "stdout",
     "output_type": "stream",
     "text": [
      "The autoreload extension is already loaded. To reload it, use:\n",
      "  %reload_ext autoreload\n"
     ]
    },
    {
     "name": "stderr",
     "output_type": "stream",
     "text": [
      "[autoreload of factory failed: Traceback (most recent call last):\n",
      "  File \"/home/skolchen/.local/lib/python3.7/site-packages/IPython/extensions/autoreload.py\", line 245, in check\n",
      "    superreload(m, reload, self.old_objects)\n",
      "  File \"/home/skolchen/.local/lib/python3.7/site-packages/IPython/extensions/autoreload.py\", line 450, in superreload\n",
      "    update_generic(old_obj, new_obj)\n",
      "  File \"/home/skolchen/.local/lib/python3.7/site-packages/IPython/extensions/autoreload.py\", line 387, in update_generic\n",
      "    update(a, b)\n",
      "  File \"/home/skolchen/.local/lib/python3.7/site-packages/IPython/extensions/autoreload.py\", line 357, in update_class\n",
      "    update_instances(old, new)\n",
      "  File \"/home/skolchen/.local/lib/python3.7/site-packages/IPython/extensions/autoreload.py\", line 280, in update_instances\n",
      "    frame = next(frame_nfo.frame for frame_nfo in inspect.stack()\n",
      "StopIteration\n",
      "]\n"
     ]
    }
   ],
   "source": [
    "%load_ext autoreload\n",
    "%autoreload\n",
    "from factory import *\n",
    "import torch\n",
    "from model import Unet\n",
    "from catalyst.dl.callbacks import CriterionCallback, EarlyStoppingCallback\n",
    "from catalyst.dl.runner import SupervisedRunner\n",
    "from pytorch_toolbelt import losses as L\n",
    "import collections\n",
    "from pytorch_toolbelt.utils.catalyst import * \n",
    "from metrics import *\n",
    "import custom_tta as tta\n",
    "from pytorch_toolbelt.inference.tiles import *\n",
    "import matplotlib.pyplot as plt\n",
    "from viz_utils import *\n",
    "from tqdm import tqdm\n",
    "%matplotlib inline"
   ]
  },
  {
   "cell_type": "code",
   "execution_count": null,
   "metadata": {},
   "outputs": [],
   "source": [
    "import pixiedust"
   ]
  },
  {
   "cell_type": "code",
   "execution_count": 68,
   "metadata": {},
   "outputs": [],
   "source": [
    "encoder_name = 'resnet34'\n",
    "sample_submission_path = 'data/sample_submission.csv'\n",
    "train_df_path = 'data/train.csv'\n",
    "data_folder = \"data/train_images/\"\n",
    "test_data_folder = \"data/test_images/\"\n",
    "base_exp_name = '{}_with_corase_matrix_deeper'.format(encoder_name)\n",
    "log_dir = 'logs/{}_pretrain/'.format(base_exp_name)\n",
    "batch_size = 32\n",
    "batch_size_val = 8\n",
    "crop_size = 256\n",
    "num_workers = 16\n",
    "num_epochs = 100\n",
    "tta_type = None\n",
    "output_channels = 4"
   ]
  },
  {
   "cell_type": "code",
   "execution_count": 3,
   "metadata": {},
   "outputs": [],
   "source": [
    "dataloader_train = provider(\n",
    "    data_folder=data_folder,\n",
    "    df_path=train_df_path,\n",
    "    phase='train',\n",
    "    transforms=light_augmentations(crop_size),\n",
    "    batch_size=batch_size,\n",
    "    num_workers=num_workers, \n",
    "    prepare_coarse=True, prepare_edges=False)\n",
    "dataloader_val = provider(\n",
    "    data_folder=data_folder,\n",
    "    df_path=train_df_path,\n",
    "    phase='val',\n",
    "    transforms=validation_augmentations(),\n",
    "    batch_size=batch_size_val,\n",
    "    num_workers=num_workers, \n",
    "    prepare_coarse=True, prepare_edges=False)"
   ]
  },
  {
   "cell_type": "code",
   "execution_count": 4,
   "metadata": {},
   "outputs": [],
   "source": [
    "loaders = collections.OrderedDict()\n",
    "loaders[\"train\"] = dataloader_train\n",
    "loaders[\"valid\"] = dataloader_val\n",
    "runner = SupervisedRunner(input_key = 'features',\n",
    "                          output_key =  None,\n",
    "                          input_target_key = None)"
   ]
  },
  {
   "cell_type": "code",
   "execution_count": 5,
   "metadata": {},
   "outputs": [],
   "source": [
    "model = Unet(classes=output_channels, \n",
    "             encoder_name=encoder_name,\n",
    "             encoder_weights='imagenet')\n",
    "loss_f = get_loss('bce_jaccard')\n",
    "optimizer = get_optimizer('radam', model.parameters(), lr = 3e-4)\n",
    "scheduler = torch.optim.lr_scheduler.MultiStepLR(optimizer, \n",
    "                                                 milestones=[10, 30, 50, 70, 90],\n",
    "                                                 gamma=0.5)"
   ]
  },
  {
   "cell_type": "code",
   "execution_count": 6,
   "metadata": {},
   "outputs": [],
   "source": [
    "if tta_type=='flipr':\n",
    "    model = tta.TTAWrapper(model, tta.fliplr_image2mask)\n",
    "if tta_type=='d4':\n",
    "    model = tta.TTAWrapper(model, tta.d4_image2mask)    "
   ]
  },
  {
   "cell_type": "markdown",
   "metadata": {},
   "source": [
    "Visualize the model"
   ]
  },
  {
   "cell_type": "code",
   "execution_count": null,
   "metadata": {},
   "outputs": [],
   "source": [
    "inputs = torch.randn(1,3,256,256)\n",
    "y = model(Variable(inputs))['logits_coarse']\n",
    "g = make_dot(y, model.state_dict())\n",
    "g.view()"
   ]
  },
  {
   "cell_type": "code",
   "execution_count": null,
   "metadata": {
    "pixiedust": {
     "displayParams": {}
    }
   },
   "outputs": [],
   "source": [
    "#%%pixie_debugger\n",
    "runner.train(\n",
    "    model=model,\n",
    "    criterion=loss_f,\n",
    "    optimizer=optimizer,\n",
    "    scheduler=scheduler,\n",
    "    callbacks=[\n",
    "        CriterionCallback(input_key=\"targets\",\n",
    "                     output_key=\"logits\",\n",
    "                     prefix=\"loss\",\n",
    "                     criterion_key=None),\n",
    "        CriterionCallback(input_key=\"coarse_targets\",\n",
    "                          output_key=\"logits_coarse\",\n",
    "                          prefix=\"loss_coarse\",\n",
    "                          criterion_key=None, multiplier = 0.5),\n",
    "        CriterionCallback(input_key=\"targets_combined\",\n",
    "                          output_key=\"logits_combined\",\n",
    "                          prefix=\"loss_combined\",\n",
    "                          criterion_key=None),\n",
    "        CriterionCallback(input_key=\"coarse_targets_combined\",\n",
    "                          output_key=\"logits_coarse_combined\",\n",
    "                          prefix=\"loss_coarse_combined\",\n",
    "                          criterion_key=None, multiplier = 0.5),\n",
    "        JaccardScoreCallback(mode='multilabel',\n",
    "                             input_key='targets', \n",
    "                             output_key=\"logits\",\n",
    "                             prefix='jaccard_targets'),\n",
    "        JaccardScoreCallback(mode='binary',\n",
    "                             input_key='targets_combined', \n",
    "                             output_key=\"logits_combined\",\n",
    "                             prefix='jaccard_targets_combined'),\n",
    "        JaccardScoreCallback(mode='multilabel',\n",
    "                             input_key='coarse_targets', \n",
    "                             output_key=\"logits_coarse\",\n",
    "                             prefix='jaccard_targets_coarse'),\n",
    "        JaccardScoreCallback(mode='binary',\n",
    "                             input_key='coarse_targets_combined', \n",
    "                             output_key=\"logits_coarse_combined\",\n",
    "                             prefix='jaccard_targets_combined_coarse'),\n",
    "        JaccardMetricPerImage(),\n",
    "        OptimalThreshold(),\n",
    "        EarlyStoppingCallback(25, metric='loss', minimize=True)\n",
    "    ],\n",
    "    loaders=loaders,\n",
    "    logdir=log_dir,\n",
    "    num_epochs=num_epochs,\n",
    "    verbose=True\n",
    ")"
   ]
  },
  {
   "cell_type": "markdown",
   "metadata": {},
   "source": [
    "Load best epochs"
   ]
  },
  {
   "cell_type": "code",
   "execution_count": 9,
   "metadata": {},
   "outputs": [
    {
     "data": {
      "text/plain": [
       "Unet(\n",
       "  (encoder): ResNetEncoder(\n",
       "    (conv1): Conv2d(3, 64, kernel_size=(7, 7), stride=(2, 2), padding=(3, 3), bias=False)\n",
       "    (bn1): BatchNorm2d(64, eps=1e-05, momentum=0.1, affine=True, track_running_stats=True)\n",
       "    (relu): ReLU(inplace=True)\n",
       "    (maxpool): MaxPool2d(kernel_size=3, stride=2, padding=1, dilation=1, ceil_mode=False)\n",
       "    (layer1): Sequential(\n",
       "      (0): BasicBlock(\n",
       "        (conv1): Conv2d(64, 64, kernel_size=(3, 3), stride=(1, 1), padding=(1, 1), bias=False)\n",
       "        (bn1): BatchNorm2d(64, eps=1e-05, momentum=0.1, affine=True, track_running_stats=True)\n",
       "        (relu): ReLU(inplace=True)\n",
       "        (conv2): Conv2d(64, 64, kernel_size=(3, 3), stride=(1, 1), padding=(1, 1), bias=False)\n",
       "        (bn2): BatchNorm2d(64, eps=1e-05, momentum=0.1, affine=True, track_running_stats=True)\n",
       "      )\n",
       "      (1): BasicBlock(\n",
       "        (conv1): Conv2d(64, 64, kernel_size=(3, 3), stride=(1, 1), padding=(1, 1), bias=False)\n",
       "        (bn1): BatchNorm2d(64, eps=1e-05, momentum=0.1, affine=True, track_running_stats=True)\n",
       "        (relu): ReLU(inplace=True)\n",
       "        (conv2): Conv2d(64, 64, kernel_size=(3, 3), stride=(1, 1), padding=(1, 1), bias=False)\n",
       "        (bn2): BatchNorm2d(64, eps=1e-05, momentum=0.1, affine=True, track_running_stats=True)\n",
       "      )\n",
       "      (2): BasicBlock(\n",
       "        (conv1): Conv2d(64, 64, kernel_size=(3, 3), stride=(1, 1), padding=(1, 1), bias=False)\n",
       "        (bn1): BatchNorm2d(64, eps=1e-05, momentum=0.1, affine=True, track_running_stats=True)\n",
       "        (relu): ReLU(inplace=True)\n",
       "        (conv2): Conv2d(64, 64, kernel_size=(3, 3), stride=(1, 1), padding=(1, 1), bias=False)\n",
       "        (bn2): BatchNorm2d(64, eps=1e-05, momentum=0.1, affine=True, track_running_stats=True)\n",
       "      )\n",
       "    )\n",
       "    (layer2): Sequential(\n",
       "      (0): BasicBlock(\n",
       "        (conv1): Conv2d(64, 128, kernel_size=(3, 3), stride=(2, 2), padding=(1, 1), bias=False)\n",
       "        (bn1): BatchNorm2d(128, eps=1e-05, momentum=0.1, affine=True, track_running_stats=True)\n",
       "        (relu): ReLU(inplace=True)\n",
       "        (conv2): Conv2d(128, 128, kernel_size=(3, 3), stride=(1, 1), padding=(1, 1), bias=False)\n",
       "        (bn2): BatchNorm2d(128, eps=1e-05, momentum=0.1, affine=True, track_running_stats=True)\n",
       "        (downsample): Sequential(\n",
       "          (0): Conv2d(64, 128, kernel_size=(1, 1), stride=(2, 2), bias=False)\n",
       "          (1): BatchNorm2d(128, eps=1e-05, momentum=0.1, affine=True, track_running_stats=True)\n",
       "        )\n",
       "      )\n",
       "      (1): BasicBlock(\n",
       "        (conv1): Conv2d(128, 128, kernel_size=(3, 3), stride=(1, 1), padding=(1, 1), bias=False)\n",
       "        (bn1): BatchNorm2d(128, eps=1e-05, momentum=0.1, affine=True, track_running_stats=True)\n",
       "        (relu): ReLU(inplace=True)\n",
       "        (conv2): Conv2d(128, 128, kernel_size=(3, 3), stride=(1, 1), padding=(1, 1), bias=False)\n",
       "        (bn2): BatchNorm2d(128, eps=1e-05, momentum=0.1, affine=True, track_running_stats=True)\n",
       "      )\n",
       "      (2): BasicBlock(\n",
       "        (conv1): Conv2d(128, 128, kernel_size=(3, 3), stride=(1, 1), padding=(1, 1), bias=False)\n",
       "        (bn1): BatchNorm2d(128, eps=1e-05, momentum=0.1, affine=True, track_running_stats=True)\n",
       "        (relu): ReLU(inplace=True)\n",
       "        (conv2): Conv2d(128, 128, kernel_size=(3, 3), stride=(1, 1), padding=(1, 1), bias=False)\n",
       "        (bn2): BatchNorm2d(128, eps=1e-05, momentum=0.1, affine=True, track_running_stats=True)\n",
       "      )\n",
       "      (3): BasicBlock(\n",
       "        (conv1): Conv2d(128, 128, kernel_size=(3, 3), stride=(1, 1), padding=(1, 1), bias=False)\n",
       "        (bn1): BatchNorm2d(128, eps=1e-05, momentum=0.1, affine=True, track_running_stats=True)\n",
       "        (relu): ReLU(inplace=True)\n",
       "        (conv2): Conv2d(128, 128, kernel_size=(3, 3), stride=(1, 1), padding=(1, 1), bias=False)\n",
       "        (bn2): BatchNorm2d(128, eps=1e-05, momentum=0.1, affine=True, track_running_stats=True)\n",
       "      )\n",
       "    )\n",
       "    (layer3): Sequential(\n",
       "      (0): BasicBlock(\n",
       "        (conv1): Conv2d(128, 256, kernel_size=(3, 3), stride=(2, 2), padding=(1, 1), bias=False)\n",
       "        (bn1): BatchNorm2d(256, eps=1e-05, momentum=0.1, affine=True, track_running_stats=True)\n",
       "        (relu): ReLU(inplace=True)\n",
       "        (conv2): Conv2d(256, 256, kernel_size=(3, 3), stride=(1, 1), padding=(1, 1), bias=False)\n",
       "        (bn2): BatchNorm2d(256, eps=1e-05, momentum=0.1, affine=True, track_running_stats=True)\n",
       "        (downsample): Sequential(\n",
       "          (0): Conv2d(128, 256, kernel_size=(1, 1), stride=(2, 2), bias=False)\n",
       "          (1): BatchNorm2d(256, eps=1e-05, momentum=0.1, affine=True, track_running_stats=True)\n",
       "        )\n",
       "      )\n",
       "      (1): BasicBlock(\n",
       "        (conv1): Conv2d(256, 256, kernel_size=(3, 3), stride=(1, 1), padding=(1, 1), bias=False)\n",
       "        (bn1): BatchNorm2d(256, eps=1e-05, momentum=0.1, affine=True, track_running_stats=True)\n",
       "        (relu): ReLU(inplace=True)\n",
       "        (conv2): Conv2d(256, 256, kernel_size=(3, 3), stride=(1, 1), padding=(1, 1), bias=False)\n",
       "        (bn2): BatchNorm2d(256, eps=1e-05, momentum=0.1, affine=True, track_running_stats=True)\n",
       "      )\n",
       "      (2): BasicBlock(\n",
       "        (conv1): Conv2d(256, 256, kernel_size=(3, 3), stride=(1, 1), padding=(1, 1), bias=False)\n",
       "        (bn1): BatchNorm2d(256, eps=1e-05, momentum=0.1, affine=True, track_running_stats=True)\n",
       "        (relu): ReLU(inplace=True)\n",
       "        (conv2): Conv2d(256, 256, kernel_size=(3, 3), stride=(1, 1), padding=(1, 1), bias=False)\n",
       "        (bn2): BatchNorm2d(256, eps=1e-05, momentum=0.1, affine=True, track_running_stats=True)\n",
       "      )\n",
       "      (3): BasicBlock(\n",
       "        (conv1): Conv2d(256, 256, kernel_size=(3, 3), stride=(1, 1), padding=(1, 1), bias=False)\n",
       "        (bn1): BatchNorm2d(256, eps=1e-05, momentum=0.1, affine=True, track_running_stats=True)\n",
       "        (relu): ReLU(inplace=True)\n",
       "        (conv2): Conv2d(256, 256, kernel_size=(3, 3), stride=(1, 1), padding=(1, 1), bias=False)\n",
       "        (bn2): BatchNorm2d(256, eps=1e-05, momentum=0.1, affine=True, track_running_stats=True)\n",
       "      )\n",
       "      (4): BasicBlock(\n",
       "        (conv1): Conv2d(256, 256, kernel_size=(3, 3), stride=(1, 1), padding=(1, 1), bias=False)\n",
       "        (bn1): BatchNorm2d(256, eps=1e-05, momentum=0.1, affine=True, track_running_stats=True)\n",
       "        (relu): ReLU(inplace=True)\n",
       "        (conv2): Conv2d(256, 256, kernel_size=(3, 3), stride=(1, 1), padding=(1, 1), bias=False)\n",
       "        (bn2): BatchNorm2d(256, eps=1e-05, momentum=0.1, affine=True, track_running_stats=True)\n",
       "      )\n",
       "      (5): BasicBlock(\n",
       "        (conv1): Conv2d(256, 256, kernel_size=(3, 3), stride=(1, 1), padding=(1, 1), bias=False)\n",
       "        (bn1): BatchNorm2d(256, eps=1e-05, momentum=0.1, affine=True, track_running_stats=True)\n",
       "        (relu): ReLU(inplace=True)\n",
       "        (conv2): Conv2d(256, 256, kernel_size=(3, 3), stride=(1, 1), padding=(1, 1), bias=False)\n",
       "        (bn2): BatchNorm2d(256, eps=1e-05, momentum=0.1, affine=True, track_running_stats=True)\n",
       "      )\n",
       "    )\n",
       "    (layer4): Sequential(\n",
       "      (0): BasicBlock(\n",
       "        (conv1): Conv2d(256, 512, kernel_size=(3, 3), stride=(2, 2), padding=(1, 1), bias=False)\n",
       "        (bn1): BatchNorm2d(512, eps=1e-05, momentum=0.1, affine=True, track_running_stats=True)\n",
       "        (relu): ReLU(inplace=True)\n",
       "        (conv2): Conv2d(512, 512, kernel_size=(3, 3), stride=(1, 1), padding=(1, 1), bias=False)\n",
       "        (bn2): BatchNorm2d(512, eps=1e-05, momentum=0.1, affine=True, track_running_stats=True)\n",
       "        (downsample): Sequential(\n",
       "          (0): Conv2d(256, 512, kernel_size=(1, 1), stride=(2, 2), bias=False)\n",
       "          (1): BatchNorm2d(512, eps=1e-05, momentum=0.1, affine=True, track_running_stats=True)\n",
       "        )\n",
       "      )\n",
       "      (1): BasicBlock(\n",
       "        (conv1): Conv2d(512, 512, kernel_size=(3, 3), stride=(1, 1), padding=(1, 1), bias=False)\n",
       "        (bn1): BatchNorm2d(512, eps=1e-05, momentum=0.1, affine=True, track_running_stats=True)\n",
       "        (relu): ReLU(inplace=True)\n",
       "        (conv2): Conv2d(512, 512, kernel_size=(3, 3), stride=(1, 1), padding=(1, 1), bias=False)\n",
       "        (bn2): BatchNorm2d(512, eps=1e-05, momentum=0.1, affine=True, track_running_stats=True)\n",
       "      )\n",
       "      (2): BasicBlock(\n",
       "        (conv1): Conv2d(512, 512, kernel_size=(3, 3), stride=(1, 1), padding=(1, 1), bias=False)\n",
       "        (bn1): BatchNorm2d(512, eps=1e-05, momentum=0.1, affine=True, track_running_stats=True)\n",
       "        (relu): ReLU(inplace=True)\n",
       "        (conv2): Conv2d(512, 512, kernel_size=(3, 3), stride=(1, 1), padding=(1, 1), bias=False)\n",
       "        (bn2): BatchNorm2d(512, eps=1e-05, momentum=0.1, affine=True, track_running_stats=True)\n",
       "      )\n",
       "    )\n",
       "    (avgpool): AdaptiveAvgPool2d(output_size=(1, 1))\n",
       "  )\n",
       "  (decoder): UnetDecoder(\n",
       "    (layer1): DecoderBlock(\n",
       "      (attention1): Identity()\n",
       "      (attention2): Identity()\n",
       "      (block): Sequential(\n",
       "        (0): Conv2dReLU(\n",
       "          (block): Sequential(\n",
       "            (0): Conv2d(768, 256, kernel_size=(3, 3), stride=(1, 1), padding=(1, 1), bias=False)\n",
       "            (1): BatchNorm2d(256, eps=1e-05, momentum=0.1, affine=True, track_running_stats=True)\n",
       "            (2): ReLU(inplace=True)\n",
       "          )\n",
       "        )\n",
       "        (1): Conv2dReLU(\n",
       "          (block): Sequential(\n",
       "            (0): Conv2d(256, 256, kernel_size=(3, 3), stride=(1, 1), padding=(1, 1), bias=False)\n",
       "            (1): BatchNorm2d(256, eps=1e-05, momentum=0.1, affine=True, track_running_stats=True)\n",
       "            (2): ReLU(inplace=True)\n",
       "          )\n",
       "        )\n",
       "      )\n",
       "    )\n",
       "    (layer2): DecoderBlock(\n",
       "      (attention1): Identity()\n",
       "      (attention2): Identity()\n",
       "      (block): Sequential(\n",
       "        (0): Conv2dReLU(\n",
       "          (block): Sequential(\n",
       "            (0): Conv2d(384, 128, kernel_size=(3, 3), stride=(1, 1), padding=(1, 1), bias=False)\n",
       "            (1): BatchNorm2d(128, eps=1e-05, momentum=0.1, affine=True, track_running_stats=True)\n",
       "            (2): ReLU(inplace=True)\n",
       "          )\n",
       "        )\n",
       "        (1): Conv2dReLU(\n",
       "          (block): Sequential(\n",
       "            (0): Conv2d(128, 128, kernel_size=(3, 3), stride=(1, 1), padding=(1, 1), bias=False)\n",
       "            (1): BatchNorm2d(128, eps=1e-05, momentum=0.1, affine=True, track_running_stats=True)\n",
       "            (2): ReLU(inplace=True)\n",
       "          )\n",
       "        )\n",
       "      )\n",
       "    )\n",
       "    (layer3): DecoderBlock(\n",
       "      (attention1): Identity()\n",
       "      (attention2): Identity()\n",
       "      (block): Sequential(\n",
       "        (0): Conv2dReLU(\n",
       "          (block): Sequential(\n",
       "            (0): Conv2d(192, 64, kernel_size=(3, 3), stride=(1, 1), padding=(1, 1), bias=False)\n",
       "            (1): BatchNorm2d(64, eps=1e-05, momentum=0.1, affine=True, track_running_stats=True)\n",
       "            (2): ReLU(inplace=True)\n",
       "          )\n",
       "        )\n",
       "        (1): Conv2dReLU(\n",
       "          (block): Sequential(\n",
       "            (0): Conv2d(64, 64, kernel_size=(3, 3), stride=(1, 1), padding=(1, 1), bias=False)\n",
       "            (1): BatchNorm2d(64, eps=1e-05, momentum=0.1, affine=True, track_running_stats=True)\n",
       "            (2): ReLU(inplace=True)\n",
       "          )\n",
       "        )\n",
       "      )\n",
       "    )\n",
       "    (layer4): DecoderBlock(\n",
       "      (attention1): Identity()\n",
       "      (attention2): Identity()\n",
       "      (block): Sequential(\n",
       "        (0): Conv2dReLU(\n",
       "          (block): Sequential(\n",
       "            (0): Conv2d(128, 32, kernel_size=(3, 3), stride=(1, 1), padding=(1, 1), bias=False)\n",
       "            (1): BatchNorm2d(32, eps=1e-05, momentum=0.1, affine=True, track_running_stats=True)\n",
       "            (2): ReLU(inplace=True)\n",
       "          )\n",
       "        )\n",
       "        (1): Conv2dReLU(\n",
       "          (block): Sequential(\n",
       "            (0): Conv2d(32, 32, kernel_size=(3, 3), stride=(1, 1), padding=(1, 1), bias=False)\n",
       "            (1): BatchNorm2d(32, eps=1e-05, momentum=0.1, affine=True, track_running_stats=True)\n",
       "            (2): ReLU(inplace=True)\n",
       "          )\n",
       "        )\n",
       "      )\n",
       "    )\n",
       "    (layer5): DecoderBlock(\n",
       "      (attention1): Identity()\n",
       "      (attention2): Identity()\n",
       "      (block): Sequential(\n",
       "        (0): Conv2dReLU(\n",
       "          (block): Sequential(\n",
       "            (0): Conv2d(32, 16, kernel_size=(3, 3), stride=(1, 1), padding=(1, 1), bias=False)\n",
       "            (1): BatchNorm2d(16, eps=1e-05, momentum=0.1, affine=True, track_running_stats=True)\n",
       "            (2): ReLU(inplace=True)\n",
       "          )\n",
       "        )\n",
       "        (1): Conv2dReLU(\n",
       "          (block): Sequential(\n",
       "            (0): Conv2d(16, 16, kernel_size=(3, 3), stride=(1, 1), padding=(1, 1), bias=False)\n",
       "            (1): BatchNorm2d(16, eps=1e-05, momentum=0.1, affine=True, track_running_stats=True)\n",
       "            (2): ReLU(inplace=True)\n",
       "          )\n",
       "        )\n",
       "      )\n",
       "    )\n",
       "    (final_conv): Conv2d(16, 4, kernel_size=(1, 1), stride=(1, 1))\n",
       "    (final_conv_combined): Conv2d(16, 1, kernel_size=(1, 1), stride=(1, 1))\n",
       "    (final_conv_coarse): Sequential(\n",
       "      (0): Conv2dReLU(\n",
       "        (block): Sequential(\n",
       "          (0): Conv2d(64, 32, kernel_size=(3, 3), stride=(1, 1), padding=(1, 1), bias=False)\n",
       "          (1): BatchNorm2d(32, eps=1e-05, momentum=0.1, affine=True, track_running_stats=True)\n",
       "          (2): ReLU(inplace=True)\n",
       "        )\n",
       "      )\n",
       "      (1): Conv2dReLU(\n",
       "        (block): Sequential(\n",
       "          (0): Conv2d(32, 16, kernel_size=(3, 3), stride=(1, 1), padding=(1, 1), bias=False)\n",
       "          (1): BatchNorm2d(16, eps=1e-05, momentum=0.1, affine=True, track_running_stats=True)\n",
       "          (2): ReLU(inplace=True)\n",
       "        )\n",
       "      )\n",
       "      (2): Conv2d(16, 4, kernel_size=(1, 1), stride=(1, 1))\n",
       "    )\n",
       "    (final_conv_coarse_combined): Sequential(\n",
       "      (0): Conv2dReLU(\n",
       "        (block): Sequential(\n",
       "          (0): Conv2d(64, 32, kernel_size=(3, 3), stride=(1, 1), padding=(1, 1), bias=False)\n",
       "          (1): BatchNorm2d(32, eps=1e-05, momentum=0.1, affine=True, track_running_stats=True)\n",
       "          (2): ReLU(inplace=True)\n",
       "        )\n",
       "      )\n",
       "      (1): Conv2dReLU(\n",
       "        (block): Sequential(\n",
       "          (0): Conv2d(32, 16, kernel_size=(3, 3), stride=(1, 1), padding=(1, 1), bias=False)\n",
       "          (1): BatchNorm2d(16, eps=1e-05, momentum=0.1, affine=True, track_running_stats=True)\n",
       "          (2): ReLU(inplace=True)\n",
       "        )\n",
       "      )\n",
       "      (2): Conv2d(16, 1, kernel_size=(1, 1), stride=(1, 1))\n",
       "    )\n",
       "  )\n",
       "  (activation): Sigmoid()\n",
       ")"
      ]
     },
     "execution_count": 9,
     "metadata": {},
     "output_type": "execute_result"
    }
   ],
   "source": [
    "model.load_state_dict(torch.load(os.path.join(log_dir,'checkpoints/best.pth'))['model_state_dict'])\n",
    "model.cuda()\n",
    "model.eval()"
   ]
  },
  {
   "cell_type": "code",
   "execution_count": 75,
   "metadata": {},
   "outputs": [],
   "source": [
    "use_tiles_predictions = True\n",
    "tile_step = 56\n",
    "target_shape = (256, 1600)"
   ]
  },
  {
   "cell_type": "code",
   "execution_count": 80,
   "metadata": {},
   "outputs": [
    {
     "name": "stderr",
     "output_type": "stream",
     "text": [
      "100%|██████████| 2514/2514 [04:12<00:00,  9.94it/s]\n"
     ]
    }
   ],
   "source": [
    "train_df, val_df = return_masks(train_df_path)\n",
    "images_id = []\n",
    "predictions = []\n",
    "if use_tiles_predictions:\n",
    "        tiler = ImageSlicer(target_shape, tile_size=(crop_size, crop_size),\n",
    "                        tile_step=(tile_step, tile_step), weight='mean')\n",
    "for image_idx in tqdm(range(len(val_df.index.values))):\n",
    "    image = cv2.imread(os.path.join(data_folder, val_df.index.values[image_idx]))\n",
    "    augmented  = validation_augmentations()(image=image)\n",
    "    image_processed = augmented['image']\n",
    "    if use_tiles_predictions:\n",
    "        merger = CudaTileMerger(tiler.target_shape, output_channels, tiler.weight)\n",
    "        tiles = [tensor_from_rgb_image(tile) for tile in tiler.split(image_processed)]\n",
    "        for tiles_batch, coords_batch in DataLoader(list(zip(tiles, tiler.crops)), \n",
    "                                                    batch_size=batch_size,\n",
    "                                                    pin_memory=True):\n",
    "            tiles_batch = tiles_batch.float().cuda()\n",
    "            with torch.no_grad():\n",
    "                pred_batch = nn.Sigmoid()(model(tiles_batch)['logits'])\n",
    "            merger.integrate_batch(pred_batch, coords_batch)\n",
    "        merged_mask = np.moveaxis(merger.merge().cpu().numpy(), 0, -1)\n",
    "    else:\n",
    "        with torch.no_grad():\n",
    "            image_processed = image_processed.transpose((2, 0, 1))\n",
    "            image_processed = torch.from_numpy(np.expand_dims(image_processed,0)).cuda()\n",
    "            #take only logits\n",
    "            merged_mask = nn.Sigmoid()(model(image_processed)['logits'])\n",
    "            merged_mask = np.moveaxis((merged_mask[0].cpu().numpy()), 0, -1)  \n",
    "    predictions.append(merged_mask)\n",
    "    images_id.append(val_df.index.values[image_idx])"
   ]
  },
  {
   "cell_type": "code",
   "execution_count": 72,
   "metadata": {},
   "outputs": [],
   "source": [
    "dict_of_predictions = dict(zip(images_id, predictions))"
   ]
  },
  {
   "cell_type": "markdown",
   "metadata": {},
   "source": [
    "Prepare GT masks"
   ]
  },
  {
   "cell_type": "code",
   "execution_count": 14,
   "metadata": {},
   "outputs": [
    {
     "name": "stderr",
     "output_type": "stream",
     "text": [
      "100%|██████████| 2514/2514 [00:05<00:00, 466.58it/s]\n"
     ]
    }
   ],
   "source": [
    "gt_masks = []\n",
    "for image_idx in tqdm(range(len(val_df.index.values))):\n",
    "    image_name =  val_df.index.values[image_idx]\n",
    "    labels = val_df.loc[image_name,:][:4]\n",
    "    masks = np.zeros((256, 1600, 4), dtype=np.float32) # float32 is V.Imp\n",
    "    for idx, label in enumerate(labels.values):\n",
    "        if label is not np.nan:\n",
    "            label = label.split(\" \")\n",
    "            positions = map(int, label[0::2])\n",
    "            length = map(int, label[1::2])\n",
    "            mask = np.zeros(256 * 1600, dtype=np.uint8)\n",
    "            for pos, le in zip(positions, length):\n",
    "                mask[pos:(pos + le)] = 1\n",
    "            masks[:, :, idx] = mask.reshape(256, 1600, order='F')\n",
    "    gt_masks.append(masks)"
   ]
  },
  {
   "cell_type": "code",
   "execution_count": 45,
   "metadata": {},
   "outputs": [],
   "source": [
    "dict_of_gt_masks = dict(zip(images_id, gt_masks))"
   ]
  },
  {
   "cell_type": "markdown",
   "metadata": {},
   "source": [
    "Calculate overall dice score + per-image dice score"
   ]
  },
  {
   "cell_type": "code",
   "execution_count": 81,
   "metadata": {},
   "outputs": [
    {
     "name": "stderr",
     "output_type": "stream",
     "text": [
      "100%|██████████| 2514/2514 [00:29<00:00, 85.54it/s]"
     ]
    },
    {
     "name": "stdout",
     "output_type": "stream",
     "text": [
      "DICE validation 0.9292319556875874\n"
     ]
    },
    {
     "name": "stderr",
     "output_type": "stream",
     "text": [
      "\n"
     ]
    }
   ],
   "source": [
    "min_area = [600, 600, 1000, 2000]\n",
    "dice_preds = []\n",
    "images_per_defect = []\n",
    "thr_prediction = 0.5\n",
    "for idx in tqdm(range(len(predictions))):\n",
    "    for defect_type in range(4):\n",
    "        mask_pred =  (predictions[idx][...,defect_type] > thr_prediction).astype(int)\n",
    "        mask_gt = gt_masks[idx][...,defect_type]\n",
    "        if mask_pred.sum() < min_area[defect_type]:\n",
    "            mask_pred = np.zeros(mask_pred.shape)\n",
    "        dice_gt_pr = dice(mask_gt,\n",
    "                          mask_pred,\n",
    "                          empty_score=1.0)\n",
    "        dice_preds.append(dice_gt_pr)\n",
    "        images_per_defect.append(images_id[idx])\n",
    "print('DICE validation {}'.format(np.mean(dice_preds)))"
   ]
  },
  {
   "cell_type": "code",
   "execution_count": 82,
   "metadata": {},
   "outputs": [
    {
     "data": {
      "text/html": [
       "<div>\n",
       "<style scoped>\n",
       "    .dataframe tbody tr th:only-of-type {\n",
       "        vertical-align: middle;\n",
       "    }\n",
       "\n",
       "    .dataframe tbody tr th {\n",
       "        vertical-align: top;\n",
       "    }\n",
       "\n",
       "    .dataframe thead th {\n",
       "        text-align: right;\n",
       "    }\n",
       "</style>\n",
       "<table border=\"1\" class=\"dataframe\">\n",
       "  <thead>\n",
       "    <tr style=\"text-align: right;\">\n",
       "      <th></th>\n",
       "      <th>dice_per_defect_min</th>\n",
       "      <th>dice_per_defect_mean</th>\n",
       "    </tr>\n",
       "    <tr>\n",
       "      <th>image_id</th>\n",
       "      <th></th>\n",
       "      <th></th>\n",
       "    </tr>\n",
       "  </thead>\n",
       "  <tbody>\n",
       "    <tr>\n",
       "      <td>b0038b54c.jpg</td>\n",
       "      <td>0.0</td>\n",
       "      <td>0.000000</td>\n",
       "    </tr>\n",
       "    <tr>\n",
       "      <td>af5c06a20.jpg</td>\n",
       "      <td>0.0</td>\n",
       "      <td>0.250000</td>\n",
       "    </tr>\n",
       "    <tr>\n",
       "      <td>34a5114d6.jpg</td>\n",
       "      <td>0.0</td>\n",
       "      <td>0.395763</td>\n",
       "    </tr>\n",
       "    <tr>\n",
       "      <td>6fdf2d1be.jpg</td>\n",
       "      <td>0.0</td>\n",
       "      <td>0.457719</td>\n",
       "    </tr>\n",
       "    <tr>\n",
       "      <td>b4805acf7.jpg</td>\n",
       "      <td>0.0</td>\n",
       "      <td>0.500000</td>\n",
       "    </tr>\n",
       "  </tbody>\n",
       "</table>\n",
       "</div>"
      ],
      "text/plain": [
       "               dice_per_defect_min  dice_per_defect_mean\n",
       "image_id                                                \n",
       "b0038b54c.jpg                  0.0              0.000000\n",
       "af5c06a20.jpg                  0.0              0.250000\n",
       "34a5114d6.jpg                  0.0              0.395763\n",
       "6fdf2d1be.jpg                  0.0              0.457719\n",
       "b4805acf7.jpg                  0.0              0.500000"
      ]
     },
     "execution_count": 82,
     "metadata": {},
     "output_type": "execute_result"
    }
   ],
   "source": [
    "dice_per_image = pd.DataFrame({'image_id':images_per_defect,'dice_per_defect':dice_preds})\n",
    "dice_per_image = pd.DataFrame(dice_per_image.groupby(['image_id']).agg({'dice_per_defect': ['min', 'mean']}))\n",
    "dice_per_image.columns = ['_'.join(col).strip() for col in dice_per_image.columns.values]\n",
    "dice_per_image.sort_values(by=['dice_per_defect_mean'],inplace=True)\n",
    "dice_per_image.head()"
   ]
  },
  {
   "cell_type": "markdown",
   "metadata": {},
   "source": [
    "Visualize bad examples"
   ]
  },
  {
   "cell_type": "code",
   "execution_count": 96,
   "metadata": {},
   "outputs": [
    {
     "name": "stdout",
     "output_type": "stream",
     "text": [
      "Mask size for defect class 1 : 0\n",
      "Defect class 1, dice 1.0\n",
      "Mask size for defect class 2 : 0\n",
      "Defect class 2, dice 1.0\n",
      "Mask size for defect class 3 : 46822\n",
      "Defect class 3, dice 0.0\n",
      "Mask size for defect class 4 : 9387\n",
      "Defect class 4, dice 0.7178031553237838\n"
     ]
    },
    {
     "data": {
      "image/png": "[encoded data removed]",
      "text/plain": [
       "<Figure size 1080x360 with 12 Axes>"
      ]
     },
     "metadata": {
      "needs_background": "light"
     },
     "output_type": "display_data"
    }
   ],
   "source": [
    "idx = 91\n",
    "image_name = dice_per_image.index.values[idx]\n",
    "image = cv2.imread(os.path.join(data_folder, image_name))\n",
    "f, ax = plt.subplots(4,3, figsize=(15,5))\n",
    "for defect_type in range(4):\n",
    "    #generate mask \n",
    "    gt_mask = dict_of_gt_masks[image_name]\n",
    "    prediction = dict_of_predictions[image_name]\n",
    "    ax[defect_type,0].imshow(image)\n",
    "    ax[defect_type,0].imshow(gt_mask[...,defect_type], alpha=0.4)\n",
    "    ax[defect_type,1].imshow(image)\n",
    "    ax[defect_type,1].imshow(prediction[...,(defect_type)],vmin=0, vmax=1.0, alpha=0.4)\n",
    "    mask_pred =  (prediction[...,(defect_type)] > 0.5).astype(int)\n",
    "    print('Mask size for defect class {} : {}'.format(defect_type+1, mask_pred.sum()))\n",
    "    if mask_pred.sum() < min_area[defect_type]:\n",
    "        mask_pred = np.zeros(mask_pred.shape)\n",
    "    ax[defect_type,2].imshow(image)\n",
    "    ax[defect_type,2].imshow(mask_pred, alpha=0.4)\n",
    "    dice_gt_pr = dice(gt_mask[...,defect_type],\n",
    "                      mask_pred,\n",
    "                      empty_score=1.0)\n",
    "    print('Defect class {}, dice {}'.format(defect_type+1, dice_gt_pr))"
   ]
  },
  {
   "cell_type": "code",
   "execution_count": null,
   "metadata": {},
   "outputs": [],
   "source": []
  },
  {
   "cell_type": "code",
   "execution_count": null,
   "metadata": {},
   "outputs": [],
   "source": []
  }
 ],
 "metadata": {
  "kernelspec": {
   "display_name": "pytorch",
   "language": "python",
   "name": "mykernel"
  },
  "language_info": {
   "codemirror_mode": {
    "name": "ipython",
    "version": 3
   },
   "file_extension": ".py",
   "mimetype": "text/x-python",
   "name": "python",
   "nbconvert_exporter": "python",
   "pygments_lexer": "ipython3",
   "version": "3.7.1"
  }
 },
 "nbformat": 4,
 "nbformat_minor": 2
}
